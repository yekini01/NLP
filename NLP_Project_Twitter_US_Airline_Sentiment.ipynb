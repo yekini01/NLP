{
 "cells": [
  {
   "cell_type": "markdown",
   "metadata": {},
   "source": [
    "# Project Description -  Twitter US Airline Sentiment\n",
    "\n",
    "\n"
   ]
  },
  {
   "cell_type": "markdown",
   "metadata": {},
   "source": [
    "## Objective:\n",
    "To implement the techniques learnt as a part of the University of Texas AIML post-graduate course."
   ]
  },
  {
   "cell_type": "markdown",
   "metadata": {},
   "source": [
    "## Data Description\n",
    "A sentiment analysis job about the problems of each major U.S. airline. Twitter data was scraped from \n",
    "February of 2015 and contributors were asked to first classify positive, negative, and neutral tweets, followed \n",
    "by categorizing negative reasons (such as \"late flight\" or \"rude service\")."
   ]
  },
  {
   "cell_type": "markdown",
   "metadata": {},
   "source": [
    "## Learning Outcomes\n",
    "- Basic understanding of text pre-processing.\n",
    "- What to do after text pre-processing: \n",
    "- Bag of words\n",
    "- Tf-idf\n",
    "- Build the classification model.\n",
    "- Evaluate the Model."
   ]
  },
  {
   "cell_type": "markdown",
   "metadata": {},
   "source": [
    "## Dataset\n",
    "The project is from a dataset from Kaggle.\n",
    "Link to the Kaggle project site: https://www.kaggle.com/crowdflower/twitter-airline-sentiment\n",
    "The dataset has to be downloaded from the above Kaggle website.\n",
    "The dataset has the following columns:\n",
    "- tweet_id\n",
    "- airline_sentiment\n",
    "- airline_sentiment_confidence\n",
    "- negativereason\n",
    "- negativereason_confidence\n",
    "- airline\n",
    "- airline_sentiment_gold\n",
    "- name\n",
    "- negativereason_gold\n",
    "- retweet_count\n",
    "- text\n",
    "- tweet_coord\n",
    "- tweet_created\n",
    "- tweet_location\n",
    "- user_timezone"
   ]
  },
  {
   "cell_type": "markdown",
   "metadata": {},
   "source": [
    "###  Import the libraries, load dataset, print shape of data, data description. (5 Marks)"
   ]
  },
  {
   "cell_type": "code",
   "execution_count": 68,
   "metadata": {},
   "outputs": [],
   "source": [
    "import warnings\n",
    "warnings.filterwarnings('ignore')\n",
    "\n",
    "# Import the relevant Libraries\n",
    "#import cv2\n",
    "import numpy as np\n",
    "import pandas as pd\n",
    "import seaborn as sns\n",
    "import matplotlib\n",
    "import matplotlib.pyplot as plt\n",
    "%matplotlib inline"
   ]
  },
  {
   "cell_type": "code",
   "execution_count": 69,
   "metadata": {},
   "outputs": [],
   "source": [
    "import nltk                                             \n",
    "#nltk.download('stopwords')                             \n",
    "#nltk.download('punkt')\n",
    "#nltk.download('wordnet')\n",
    "\n",
    "from nltk.corpus import stopwords                       \n",
    "from nltk.tokenize import word_tokenize, sent_tokenize  \n",
    "from nltk.stem.wordnet import WordNetLemmatizer         \n",
    "from sklearn.feature_extraction.text import TfidfVectorizer \n",
    "from nltk.stem import PorterStemmer\n",
    "\n",
    "from sklearn.metrics import accuracy_score, f1_score, recall_score, precision_score, confusion_matrix\n",
    "from sklearn.metrics import classification_report, confusion_matrix\n",
    "from sklearn.model_selection import cross_val_score\n",
    "from sklearn import preprocessing\n",
    "from sklearn.model_selection import train_test_split\n",
    "from sklearn.ensemble import RandomForestClassifier"
   ]
  },
  {
   "cell_type": "code",
   "execution_count": 70,
   "metadata": {},
   "outputs": [],
   "source": [
    "#load the dataset\n",
    "twitter_data = pd.read_csv('Tweets.csv')"
   ]
  },
  {
   "cell_type": "code",
   "execution_count": 71,
   "metadata": {},
   "outputs": [
    {
     "name": "stdout",
     "output_type": "stream",
     "text": [
      "(14640, 15)\n"
     ]
    }
   ],
   "source": [
    "#print shape of data\n",
    "print(twitter_data.shape)"
   ]
  },
  {
   "cell_type": "code",
   "execution_count": 72,
   "metadata": {},
   "outputs": [
    {
     "data": {
      "text/html": [
       "<div>\n",
       "<style scoped>\n",
       "    .dataframe tbody tr th:only-of-type {\n",
       "        vertical-align: middle;\n",
       "    }\n",
       "\n",
       "    .dataframe tbody tr th {\n",
       "        vertical-align: top;\n",
       "    }\n",
       "\n",
       "    .dataframe thead th {\n",
       "        text-align: right;\n",
       "    }\n",
       "</style>\n",
       "<table border=\"1\" class=\"dataframe\">\n",
       "  <thead>\n",
       "    <tr style=\"text-align: right;\">\n",
       "      <th></th>\n",
       "      <th>tweet_id</th>\n",
       "      <th>airline_sentiment</th>\n",
       "      <th>airline_sentiment_confidence</th>\n",
       "      <th>negativereason</th>\n",
       "      <th>negativereason_confidence</th>\n",
       "      <th>airline</th>\n",
       "      <th>airline_sentiment_gold</th>\n",
       "      <th>name</th>\n",
       "      <th>negativereason_gold</th>\n",
       "      <th>retweet_count</th>\n",
       "      <th>text</th>\n",
       "      <th>tweet_coord</th>\n",
       "      <th>tweet_created</th>\n",
       "      <th>tweet_location</th>\n",
       "      <th>user_timezone</th>\n",
       "    </tr>\n",
       "  </thead>\n",
       "  <tbody>\n",
       "    <tr>\n",
       "      <th>0</th>\n",
       "      <td>570306133677760513</td>\n",
       "      <td>neutral</td>\n",
       "      <td>1.0000</td>\n",
       "      <td>NaN</td>\n",
       "      <td>NaN</td>\n",
       "      <td>Virgin America</td>\n",
       "      <td>NaN</td>\n",
       "      <td>cairdin</td>\n",
       "      <td>NaN</td>\n",
       "      <td>0</td>\n",
       "      <td>@VirginAmerica What @dhepburn said.</td>\n",
       "      <td>NaN</td>\n",
       "      <td>2015-02-24 11:35:52 -0800</td>\n",
       "      <td>NaN</td>\n",
       "      <td>Eastern Time (US &amp; Canada)</td>\n",
       "    </tr>\n",
       "    <tr>\n",
       "      <th>1</th>\n",
       "      <td>570301130888122368</td>\n",
       "      <td>positive</td>\n",
       "      <td>0.3486</td>\n",
       "      <td>NaN</td>\n",
       "      <td>0.0000</td>\n",
       "      <td>Virgin America</td>\n",
       "      <td>NaN</td>\n",
       "      <td>jnardino</td>\n",
       "      <td>NaN</td>\n",
       "      <td>0</td>\n",
       "      <td>@VirginAmerica plus you've added commercials to the experience... tacky.</td>\n",
       "      <td>NaN</td>\n",
       "      <td>2015-02-24 11:15:59 -0800</td>\n",
       "      <td>NaN</td>\n",
       "      <td>Pacific Time (US &amp; Canada)</td>\n",
       "    </tr>\n",
       "    <tr>\n",
       "      <th>2</th>\n",
       "      <td>570301083672813571</td>\n",
       "      <td>neutral</td>\n",
       "      <td>0.6837</td>\n",
       "      <td>NaN</td>\n",
       "      <td>NaN</td>\n",
       "      <td>Virgin America</td>\n",
       "      <td>NaN</td>\n",
       "      <td>yvonnalynn</td>\n",
       "      <td>NaN</td>\n",
       "      <td>0</td>\n",
       "      <td>@VirginAmerica I didn't today... Must mean I need to take another trip!</td>\n",
       "      <td>NaN</td>\n",
       "      <td>2015-02-24 11:15:48 -0800</td>\n",
       "      <td>Lets Play</td>\n",
       "      <td>Central Time (US &amp; Canada)</td>\n",
       "    </tr>\n",
       "    <tr>\n",
       "      <th>3</th>\n",
       "      <td>570301031407624196</td>\n",
       "      <td>negative</td>\n",
       "      <td>1.0000</td>\n",
       "      <td>Bad Flight</td>\n",
       "      <td>0.7033</td>\n",
       "      <td>Virgin America</td>\n",
       "      <td>NaN</td>\n",
       "      <td>jnardino</td>\n",
       "      <td>NaN</td>\n",
       "      <td>0</td>\n",
       "      <td>@VirginAmerica it's really aggressive to blast obnoxious \"entertainment\" in your guests' faces &amp;amp; they have little recourse</td>\n",
       "      <td>NaN</td>\n",
       "      <td>2015-02-24 11:15:36 -0800</td>\n",
       "      <td>NaN</td>\n",
       "      <td>Pacific Time (US &amp; Canada)</td>\n",
       "    </tr>\n",
       "    <tr>\n",
       "      <th>4</th>\n",
       "      <td>570300817074462722</td>\n",
       "      <td>negative</td>\n",
       "      <td>1.0000</td>\n",
       "      <td>Can't Tell</td>\n",
       "      <td>1.0000</td>\n",
       "      <td>Virgin America</td>\n",
       "      <td>NaN</td>\n",
       "      <td>jnardino</td>\n",
       "      <td>NaN</td>\n",
       "      <td>0</td>\n",
       "      <td>@VirginAmerica and it's a really big bad thing about it</td>\n",
       "      <td>NaN</td>\n",
       "      <td>2015-02-24 11:14:45 -0800</td>\n",
       "      <td>NaN</td>\n",
       "      <td>Pacific Time (US &amp; Canada)</td>\n",
       "    </tr>\n",
       "  </tbody>\n",
       "</table>\n",
       "</div>"
      ],
      "text/plain": [
       "             tweet_id airline_sentiment  airline_sentiment_confidence  \\\n",
       "0  570306133677760513           neutral                        1.0000   \n",
       "1  570301130888122368          positive                        0.3486   \n",
       "2  570301083672813571           neutral                        0.6837   \n",
       "3  570301031407624196          negative                        1.0000   \n",
       "4  570300817074462722          negative                        1.0000   \n",
       "\n",
       "  negativereason  negativereason_confidence         airline  \\\n",
       "0            NaN                        NaN  Virgin America   \n",
       "1            NaN                     0.0000  Virgin America   \n",
       "2            NaN                        NaN  Virgin America   \n",
       "3     Bad Flight                     0.7033  Virgin America   \n",
       "4     Can't Tell                     1.0000  Virgin America   \n",
       "\n",
       "  airline_sentiment_gold        name negativereason_gold  retweet_count  \\\n",
       "0                    NaN     cairdin                 NaN              0   \n",
       "1                    NaN    jnardino                 NaN              0   \n",
       "2                    NaN  yvonnalynn                 NaN              0   \n",
       "3                    NaN    jnardino                 NaN              0   \n",
       "4                    NaN    jnardino                 NaN              0   \n",
       "\n",
       "                                                                                                                             text  \\\n",
       "0                                                                                             @VirginAmerica What @dhepburn said.   \n",
       "1                                                        @VirginAmerica plus you've added commercials to the experience... tacky.   \n",
       "2                                                         @VirginAmerica I didn't today... Must mean I need to take another trip!   \n",
       "3  @VirginAmerica it's really aggressive to blast obnoxious \"entertainment\" in your guests' faces &amp; they have little recourse   \n",
       "4                                                                         @VirginAmerica and it's a really big bad thing about it   \n",
       "\n",
       "  tweet_coord              tweet_created tweet_location  \\\n",
       "0         NaN  2015-02-24 11:35:52 -0800            NaN   \n",
       "1         NaN  2015-02-24 11:15:59 -0800            NaN   \n",
       "2         NaN  2015-02-24 11:15:48 -0800      Lets Play   \n",
       "3         NaN  2015-02-24 11:15:36 -0800            NaN   \n",
       "4         NaN  2015-02-24 11:14:45 -0800            NaN   \n",
       "\n",
       "                user_timezone  \n",
       "0  Eastern Time (US & Canada)  \n",
       "1  Pacific Time (US & Canada)  \n",
       "2  Central Time (US & Canada)  \n",
       "3  Pacific Time (US & Canada)  \n",
       "4  Pacific Time (US & Canada)  "
      ]
     },
     "execution_count": 72,
     "metadata": {},
     "output_type": "execute_result"
    }
   ],
   "source": [
    "twitter_data.head()"
   ]
  },
  {
   "cell_type": "code",
   "execution_count": 73,
   "metadata": {},
   "outputs": [
    {
     "name": "stdout",
     "output_type": "stream",
     "text": [
      "<class 'pandas.core.frame.DataFrame'>\n",
      "RangeIndex: 14640 entries, 0 to 14639\n",
      "Data columns (total 15 columns):\n",
      " #   Column                        Non-Null Count  Dtype  \n",
      "---  ------                        --------------  -----  \n",
      " 0   tweet_id                      14640 non-null  int64  \n",
      " 1   airline_sentiment             14640 non-null  object \n",
      " 2   airline_sentiment_confidence  14640 non-null  float64\n",
      " 3   negativereason                9178 non-null   object \n",
      " 4   negativereason_confidence     10522 non-null  float64\n",
      " 5   airline                       14640 non-null  object \n",
      " 6   airline_sentiment_gold        40 non-null     object \n",
      " 7   name                          14640 non-null  object \n",
      " 8   negativereason_gold           32 non-null     object \n",
      " 9   retweet_count                 14640 non-null  int64  \n",
      " 10  text                          14640 non-null  object \n",
      " 11  tweet_coord                   1019 non-null   object \n",
      " 12  tweet_created                 14640 non-null  object \n",
      " 13  tweet_location                9907 non-null   object \n",
      " 14  user_timezone                 9820 non-null   object \n",
      "dtypes: float64(2), int64(2), object(11)\n",
      "memory usage: 1.7+ MB\n"
     ]
    }
   ],
   "source": [
    "#data description\n",
    "twitter_data.info()\n",
    "# the data consists of 15 columns with datatype as given below"
   ]
  },
  {
   "cell_type": "code",
   "execution_count": 74,
   "metadata": {},
   "outputs": [
    {
     "data": {
      "text/html": [
       "<div>\n",
       "<style scoped>\n",
       "    .dataframe tbody tr th:only-of-type {\n",
       "        vertical-align: middle;\n",
       "    }\n",
       "\n",
       "    .dataframe tbody tr th {\n",
       "        vertical-align: top;\n",
       "    }\n",
       "\n",
       "    .dataframe thead th {\n",
       "        text-align: right;\n",
       "    }\n",
       "</style>\n",
       "<table border=\"1\" class=\"dataframe\">\n",
       "  <thead>\n",
       "    <tr style=\"text-align: right;\">\n",
       "      <th></th>\n",
       "      <th>count</th>\n",
       "      <th>mean</th>\n",
       "      <th>std</th>\n",
       "      <th>min</th>\n",
       "      <th>25%</th>\n",
       "      <th>50%</th>\n",
       "      <th>75%</th>\n",
       "      <th>max</th>\n",
       "    </tr>\n",
       "  </thead>\n",
       "  <tbody>\n",
       "    <tr>\n",
       "      <th>tweet_id</th>\n",
       "      <td>14640.0</td>\n",
       "      <td>5.692184e+17</td>\n",
       "      <td>7.791112e+14</td>\n",
       "      <td>5.675883e+17</td>\n",
       "      <td>5.685592e+17</td>\n",
       "      <td>5.694779e+17</td>\n",
       "      <td>5.698905e+17</td>\n",
       "      <td>5.703106e+17</td>\n",
       "    </tr>\n",
       "    <tr>\n",
       "      <th>airline_sentiment_confidence</th>\n",
       "      <td>14640.0</td>\n",
       "      <td>9.001689e-01</td>\n",
       "      <td>1.628300e-01</td>\n",
       "      <td>3.350000e-01</td>\n",
       "      <td>6.923000e-01</td>\n",
       "      <td>1.000000e+00</td>\n",
       "      <td>1.000000e+00</td>\n",
       "      <td>1.000000e+00</td>\n",
       "    </tr>\n",
       "    <tr>\n",
       "      <th>negativereason_confidence</th>\n",
       "      <td>10522.0</td>\n",
       "      <td>6.382983e-01</td>\n",
       "      <td>3.304398e-01</td>\n",
       "      <td>0.000000e+00</td>\n",
       "      <td>3.606000e-01</td>\n",
       "      <td>6.706000e-01</td>\n",
       "      <td>1.000000e+00</td>\n",
       "      <td>1.000000e+00</td>\n",
       "    </tr>\n",
       "    <tr>\n",
       "      <th>retweet_count</th>\n",
       "      <td>14640.0</td>\n",
       "      <td>8.265027e-02</td>\n",
       "      <td>7.457782e-01</td>\n",
       "      <td>0.000000e+00</td>\n",
       "      <td>0.000000e+00</td>\n",
       "      <td>0.000000e+00</td>\n",
       "      <td>0.000000e+00</td>\n",
       "      <td>4.400000e+01</td>\n",
       "    </tr>\n",
       "  </tbody>\n",
       "</table>\n",
       "</div>"
      ],
      "text/plain": [
       "                                count          mean           std  \\\n",
       "tweet_id                      14640.0  5.692184e+17  7.791112e+14   \n",
       "airline_sentiment_confidence  14640.0  9.001689e-01  1.628300e-01   \n",
       "negativereason_confidence     10522.0  6.382983e-01  3.304398e-01   \n",
       "retweet_count                 14640.0  8.265027e-02  7.457782e-01   \n",
       "\n",
       "                                       min           25%           50%  \\\n",
       "tweet_id                      5.675883e+17  5.685592e+17  5.694779e+17   \n",
       "airline_sentiment_confidence  3.350000e-01  6.923000e-01  1.000000e+00   \n",
       "negativereason_confidence     0.000000e+00  3.606000e-01  6.706000e-01   \n",
       "retweet_count                 0.000000e+00  0.000000e+00  0.000000e+00   \n",
       "\n",
       "                                       75%           max  \n",
       "tweet_id                      5.698905e+17  5.703106e+17  \n",
       "airline_sentiment_confidence  1.000000e+00  1.000000e+00  \n",
       "negativereason_confidence     1.000000e+00  1.000000e+00  \n",
       "retweet_count                 0.000000e+00  4.400000e+01  "
      ]
     },
     "execution_count": 74,
     "metadata": {},
     "output_type": "execute_result"
    }
   ],
   "source": [
    "#Statistical summary\n",
    "twitter_data.describe().T"
   ]
  },
  {
   "cell_type": "markdown",
   "metadata": {},
   "source": [
    "### Understand of data-columns: (5 Marks)\n",
    "a. Drop all other columns except “text” and “airline_sentiment”.\n",
    "b. Check the shape of data.\n",
    "c. Print first 5 rows of data."
   ]
  },
  {
   "cell_type": "code",
   "execution_count": 75,
   "metadata": {},
   "outputs": [],
   "source": [
    "# identify the 13 columns to be dropped as per specifiecation.\n",
    "columns = ['tweet_id', 'airline_sentiment_confidence',\n",
    "       'negativereason', 'negativereason_confidence', 'airline',\n",
    "       'airline_sentiment_gold', 'name', 'negativereason_gold',\n",
    "       'retweet_count', 'tweet_coord', 'tweet_created',\n",
    "       'tweet_location', 'user_timezone']"
   ]
  },
  {
   "cell_type": "code",
   "execution_count": 76,
   "metadata": {},
   "outputs": [],
   "source": [
    "#drop the requested columns\n",
    "twitter_data = pd.DataFrame(twitter_data.drop(columns,axis=1,inplace=False))"
   ]
  },
  {
   "cell_type": "code",
   "execution_count": 77,
   "metadata": {},
   "outputs": [
    {
     "data": {
      "text/plain": [
       "(14640, 2)"
      ]
     },
     "execution_count": 77,
     "metadata": {},
     "output_type": "execute_result"
    }
   ],
   "source": [
    "#check shape of data\n",
    "twitter_data.shape"
   ]
  },
  {
   "cell_type": "code",
   "execution_count": 78,
   "metadata": {},
   "outputs": [],
   "source": [
    "pd.set_option('display.max_colwidth', None) # Display full dataframe information (Non-turncated Text column.)"
   ]
  },
  {
   "cell_type": "code",
   "execution_count": 79,
   "metadata": {},
   "outputs": [
    {
     "data": {
      "text/html": [
       "<div>\n",
       "<style scoped>\n",
       "    .dataframe tbody tr th:only-of-type {\n",
       "        vertical-align: middle;\n",
       "    }\n",
       "\n",
       "    .dataframe tbody tr th {\n",
       "        vertical-align: top;\n",
       "    }\n",
       "\n",
       "    .dataframe thead th {\n",
       "        text-align: right;\n",
       "    }\n",
       "</style>\n",
       "<table border=\"1\" class=\"dataframe\">\n",
       "  <thead>\n",
       "    <tr style=\"text-align: right;\">\n",
       "      <th></th>\n",
       "      <th>airline_sentiment</th>\n",
       "      <th>text</th>\n",
       "    </tr>\n",
       "  </thead>\n",
       "  <tbody>\n",
       "    <tr>\n",
       "      <th>0</th>\n",
       "      <td>neutral</td>\n",
       "      <td>@VirginAmerica What @dhepburn said.</td>\n",
       "    </tr>\n",
       "    <tr>\n",
       "      <th>1</th>\n",
       "      <td>positive</td>\n",
       "      <td>@VirginAmerica plus you've added commercials to the experience... tacky.</td>\n",
       "    </tr>\n",
       "    <tr>\n",
       "      <th>2</th>\n",
       "      <td>neutral</td>\n",
       "      <td>@VirginAmerica I didn't today... Must mean I need to take another trip!</td>\n",
       "    </tr>\n",
       "    <tr>\n",
       "      <th>3</th>\n",
       "      <td>negative</td>\n",
       "      <td>@VirginAmerica it's really aggressive to blast obnoxious \"entertainment\" in your guests' faces &amp;amp; they have little recourse</td>\n",
       "    </tr>\n",
       "    <tr>\n",
       "      <th>4</th>\n",
       "      <td>negative</td>\n",
       "      <td>@VirginAmerica and it's a really big bad thing about it</td>\n",
       "    </tr>\n",
       "  </tbody>\n",
       "</table>\n",
       "</div>"
      ],
      "text/plain": [
       "  airline_sentiment  \\\n",
       "0           neutral   \n",
       "1          positive   \n",
       "2           neutral   \n",
       "3          negative   \n",
       "4          negative   \n",
       "\n",
       "                                                                                                                             text  \n",
       "0                                                                                             @VirginAmerica What @dhepburn said.  \n",
       "1                                                        @VirginAmerica plus you've added commercials to the experience... tacky.  \n",
       "2                                                         @VirginAmerica I didn't today... Must mean I need to take another trip!  \n",
       "3  @VirginAmerica it's really aggressive to blast obnoxious \"entertainment\" in your guests' faces &amp; they have little recourse  \n",
       "4                                                                         @VirginAmerica and it's a really big bad thing about it  "
      ]
     },
     "execution_count": 79,
     "metadata": {},
     "output_type": "execute_result"
    }
   ],
   "source": [
    "#print first 5 rows of data\n",
    "twitter_data.head(5)"
   ]
  },
  {
   "cell_type": "code",
   "execution_count": 80,
   "metadata": {},
   "outputs": [],
   "source": [
    "def string_to_int(sentiment):\n",
    "    if sentiment == \"negative\":\n",
    "        return 0\n",
    "    elif sentiment == \"neutral\":\n",
    "        return 1\n",
    "    elif sentiment == \"positive\": \n",
    "        return 2"
   ]
  },
  {
   "cell_type": "code",
   "execution_count": 81,
   "metadata": {},
   "outputs": [],
   "source": [
    "# convert the sentiment ordinals to integers to aid the modeling\n",
    "twitter_data.airline_sentiment= twitter_data['airline_sentiment'].apply(string_to_int)"
   ]
  },
  {
   "cell_type": "code",
   "execution_count": 82,
   "metadata": {},
   "outputs": [
    {
     "data": {
      "text/html": [
       "<div>\n",
       "<style scoped>\n",
       "    .dataframe tbody tr th:only-of-type {\n",
       "        vertical-align: middle;\n",
       "    }\n",
       "\n",
       "    .dataframe tbody tr th {\n",
       "        vertical-align: top;\n",
       "    }\n",
       "\n",
       "    .dataframe thead th {\n",
       "        text-align: right;\n",
       "    }\n",
       "</style>\n",
       "<table border=\"1\" class=\"dataframe\">\n",
       "  <thead>\n",
       "    <tr style=\"text-align: right;\">\n",
       "      <th></th>\n",
       "      <th>airline_sentiment</th>\n",
       "      <th>text</th>\n",
       "    </tr>\n",
       "  </thead>\n",
       "  <tbody>\n",
       "    <tr>\n",
       "      <th>0</th>\n",
       "      <td>1</td>\n",
       "      <td>@VirginAmerica What @dhepburn said.</td>\n",
       "    </tr>\n",
       "    <tr>\n",
       "      <th>1</th>\n",
       "      <td>2</td>\n",
       "      <td>@VirginAmerica plus you've added commercials to the experience... tacky.</td>\n",
       "    </tr>\n",
       "    <tr>\n",
       "      <th>2</th>\n",
       "      <td>1</td>\n",
       "      <td>@VirginAmerica I didn't today... Must mean I need to take another trip!</td>\n",
       "    </tr>\n",
       "    <tr>\n",
       "      <th>3</th>\n",
       "      <td>0</td>\n",
       "      <td>@VirginAmerica it's really aggressive to blast obnoxious \"entertainment\" in your guests' faces &amp;amp; they have little recourse</td>\n",
       "    </tr>\n",
       "    <tr>\n",
       "      <th>4</th>\n",
       "      <td>0</td>\n",
       "      <td>@VirginAmerica and it's a really big bad thing about it</td>\n",
       "    </tr>\n",
       "  </tbody>\n",
       "</table>\n",
       "</div>"
      ],
      "text/plain": [
       "   airline_sentiment  \\\n",
       "0                  1   \n",
       "1                  2   \n",
       "2                  1   \n",
       "3                  0   \n",
       "4                  0   \n",
       "\n",
       "                                                                                                                             text  \n",
       "0                                                                                             @VirginAmerica What @dhepburn said.  \n",
       "1                                                        @VirginAmerica plus you've added commercials to the experience... tacky.  \n",
       "2                                                         @VirginAmerica I didn't today... Must mean I need to take another trip!  \n",
       "3  @VirginAmerica it's really aggressive to blast obnoxious \"entertainment\" in your guests' faces &amp; they have little recourse  \n",
       "4                                                                         @VirginAmerica and it's a really big bad thing about it  "
      ]
     },
     "execution_count": 82,
     "metadata": {},
     "output_type": "execute_result"
    }
   ],
   "source": [
    "twitter_data.head()"
   ]
  },
  {
   "cell_type": "code",
   "execution_count": 83,
   "metadata": {},
   "outputs": [
    {
     "data": {
      "text/plain": [
       "airline_sentiment    0\n",
       "text                 0\n",
       "dtype: int64"
      ]
     },
     "execution_count": 83,
     "metadata": {},
     "output_type": "execute_result"
    }
   ],
   "source": [
    "twitter_data.isnull().sum(axis=0)                                # Check for NULL values.\n",
    "#there were no null values"
   ]
  },
  {
   "cell_type": "markdown",
   "metadata": {},
   "source": [
    "### Text pre-processing: Data preparation. (20 Marks)\n",
    "a. Html tag removal.\n",
    "b. Tokenization.\n",
    "c. Remove the numbers.\n",
    "d. Removal of Special Characters and Punctuations.\n",
    "e. Conversion to lowercase.\n",
    "f. Lemmatize or stemming.\n",
    "g. Join the words in the list to convert back to text string in the dataframe. (So that each row \n",
    "contains the data in text format.)\n",
    "h. Print first 5 rows of data after pre-processing."
   ]
  },
  {
   "cell_type": "markdown",
   "metadata": {},
   "source": [
    "#####  first-stage text pre-processing: Data preparation"
   ]
  },
  {
   "cell_type": "code",
   "execution_count": 84,
   "metadata": {},
   "outputs": [
    {
     "data": {
      "text/html": [
       "<div>\n",
       "<style scoped>\n",
       "    .dataframe tbody tr th:only-of-type {\n",
       "        vertical-align: middle;\n",
       "    }\n",
       "\n",
       "    .dataframe tbody tr th {\n",
       "        vertical-align: top;\n",
       "    }\n",
       "\n",
       "    .dataframe thead th {\n",
       "        text-align: right;\n",
       "    }\n",
       "</style>\n",
       "<table border=\"1\" class=\"dataframe\">\n",
       "  <thead>\n",
       "    <tr style=\"text-align: right;\">\n",
       "      <th></th>\n",
       "      <th>airline_sentiment</th>\n",
       "      <th>text</th>\n",
       "    </tr>\n",
       "  </thead>\n",
       "  <tbody>\n",
       "    <tr>\n",
       "      <th>0</th>\n",
       "      <td>1</td>\n",
       "      <td>@VirginAmerica What @dhepburn said.</td>\n",
       "    </tr>\n",
       "    <tr>\n",
       "      <th>1</th>\n",
       "      <td>2</td>\n",
       "      <td>@VirginAmerica plus you've added commercials to the experience... tacky.</td>\n",
       "    </tr>\n",
       "    <tr>\n",
       "      <th>2</th>\n",
       "      <td>1</td>\n",
       "      <td>@VirginAmerica I didn't today... Must mean I need to take another trip!</td>\n",
       "    </tr>\n",
       "    <tr>\n",
       "      <th>3</th>\n",
       "      <td>0</td>\n",
       "      <td>@VirginAmerica it's really aggressive to blast obnoxious \"entertainment\" in your guests' faces &amp; they have little recourse</td>\n",
       "    </tr>\n",
       "    <tr>\n",
       "      <th>4</th>\n",
       "      <td>0</td>\n",
       "      <td>@VirginAmerica and it's a really big bad thing about it</td>\n",
       "    </tr>\n",
       "  </tbody>\n",
       "</table>\n",
       "</div>"
      ],
      "text/plain": [
       "   airline_sentiment  \\\n",
       "0                  1   \n",
       "1                  2   \n",
       "2                  1   \n",
       "3                  0   \n",
       "4                  0   \n",
       "\n",
       "                                                                                                                         text  \n",
       "0                                                                                         @VirginAmerica What @dhepburn said.  \n",
       "1                                                    @VirginAmerica plus you've added commercials to the experience... tacky.  \n",
       "2                                                     @VirginAmerica I didn't today... Must mean I need to take another trip!  \n",
       "3  @VirginAmerica it's really aggressive to blast obnoxious \"entertainment\" in your guests' faces & they have little recourse  \n",
       "4                                                                     @VirginAmerica and it's a really big bad thing about it  "
      ]
     },
     "execution_count": 84,
     "metadata": {},
     "output_type": "execute_result"
    }
   ],
   "source": [
    "#Html tag removal\n",
    "from bs4 import BeautifulSoup\n",
    "def strip_html(text):\n",
    "    soup = BeautifulSoup(text, \"html.parser\")\n",
    "    return soup.get_text()\n",
    "twitter_data['text'] = twitter_data['text'].apply(lambda x: strip_html(x))\n",
    "twitter_data.head()"
   ]
  },
  {
   "cell_type": "code",
   "execution_count": 85,
   "metadata": {},
   "outputs": [
    {
     "data": {
      "text/html": [
       "<div>\n",
       "<style scoped>\n",
       "    .dataframe tbody tr th:only-of-type {\n",
       "        vertical-align: middle;\n",
       "    }\n",
       "\n",
       "    .dataframe tbody tr th {\n",
       "        vertical-align: top;\n",
       "    }\n",
       "\n",
       "    .dataframe thead th {\n",
       "        text-align: right;\n",
       "    }\n",
       "</style>\n",
       "<table border=\"1\" class=\"dataframe\">\n",
       "  <thead>\n",
       "    <tr style=\"text-align: right;\">\n",
       "      <th></th>\n",
       "      <th>airline_sentiment</th>\n",
       "      <th>text</th>\n",
       "    </tr>\n",
       "  </thead>\n",
       "  <tbody>\n",
       "    <tr>\n",
       "      <th>0</th>\n",
       "      <td>1</td>\n",
       "      <td>@VirginAmerica What @dhepburn said.</td>\n",
       "    </tr>\n",
       "    <tr>\n",
       "      <th>1</th>\n",
       "      <td>2</td>\n",
       "      <td>@VirginAmerica plus you've added commercials to the experience... tacky.</td>\n",
       "    </tr>\n",
       "    <tr>\n",
       "      <th>2</th>\n",
       "      <td>1</td>\n",
       "      <td>@VirginAmerica I didn't today... Must mean I need to take another trip!</td>\n",
       "    </tr>\n",
       "    <tr>\n",
       "      <th>3</th>\n",
       "      <td>0</td>\n",
       "      <td>@VirginAmerica it's really aggressive to blast obnoxious \"entertainment\" in your guests' faces &amp; they have little recourse</td>\n",
       "    </tr>\n",
       "    <tr>\n",
       "      <th>4</th>\n",
       "      <td>0</td>\n",
       "      <td>@VirginAmerica and it's a really big bad thing about it</td>\n",
       "    </tr>\n",
       "  </tbody>\n",
       "</table>\n",
       "</div>"
      ],
      "text/plain": [
       "   airline_sentiment  \\\n",
       "0                  1   \n",
       "1                  2   \n",
       "2                  1   \n",
       "3                  0   \n",
       "4                  0   \n",
       "\n",
       "                                                                                                                         text  \n",
       "0                                                                                         @VirginAmerica What @dhepburn said.  \n",
       "1                                                    @VirginAmerica plus you've added commercials to the experience... tacky.  \n",
       "2                                                     @VirginAmerica I didn't today... Must mean I need to take another trip!  \n",
       "3  @VirginAmerica it's really aggressive to blast obnoxious \"entertainment\" in your guests' faces & they have little recourse  \n",
       "4                                                                     @VirginAmerica and it's a really big bad thing about it  "
      ]
     },
     "execution_count": 85,
     "metadata": {},
     "output_type": "execute_result"
    }
   ],
   "source": [
    "#remove numbers\n",
    "#Import Regex, string and unicodedata.\n",
    "import re, string, unicodedata                           \n",
    "import re\n",
    "def remove_numbers(text):\n",
    "  text = re.sub(r'\\d+', '', text)\n",
    "  return text\n",
    "\n",
    "twitter_data['text'] = twitter_data['text'].apply(lambda x: remove_numbers(x))\n",
    "twitter_data.head()"
   ]
  },
  {
   "cell_type": "code",
   "execution_count": 86,
   "metadata": {},
   "outputs": [],
   "source": [
    "#tokenization\n",
    "twitter_data['text'] = twitter_data.apply(lambda row: nltk.word_tokenize(row['text']), axis=1) # Tokenization of data"
   ]
  },
  {
   "cell_type": "markdown",
   "metadata": {},
   "source": [
    "#####  second-stage text pre-processing: Data preparation"
   ]
  },
  {
   "cell_type": "code",
   "execution_count": 87,
   "metadata": {},
   "outputs": [],
   "source": [
    "# Global Parameters\n",
    "stopwords = stopwords.words('english')\n",
    "customlist = ['not', \"couldn't\", 'didn', \"didn't\", 'doesn', \"doesn't\", 'hadn', \"hadn't\", 'hasn',\n",
    "        \"hasn't\", 'haven', \"haven't\", 'isn', \"isn't\", 'ma', 'mightn', \"mightn't\", 'mustn',\n",
    "        \"mustn't\", 'needn', \"needn't\", 'shan', \"shan't\", 'shouldn', \"shouldn't\", 'wasn',\n",
    "        \"wasn't\", 'weren', \"weren't\", 'won', \"won't\", 'wouldn', \"wouldn't\"]\n",
    "\n",
    "# Set custom stop-word's list as not, couldn't etc. words matter in Sentiment, so not removing them from original data.\n",
    "stopwords = list(set(stopwords) - set(customlist))  "
   ]
  },
  {
   "cell_type": "code",
   "execution_count": 88,
   "metadata": {},
   "outputs": [],
   "source": [
    "# in this work we chose to use Lemmatizer instead of Stemmer\n",
    "lemmatizer = WordNetLemmatizer()\n",
    "\n",
    "#remove special characters\n",
    "def remove_accented_chars(words):\n",
    "    \"\"\"Remove accented characters i.e. non-ASCII characters from list of tokenized words\"\"\"\n",
    "    new_words = []\n",
    "    for word in words:\n",
    "        new_word = unicodedata.normalize('NFKD', word).encode('ascii', 'ignore').decode('utf-8', 'ignore')\n",
    "        new_words.append(new_word)\n",
    "    return new_words\n",
    "\n",
    "# coversion to lower case\n",
    "def to_lowercase(words):\n",
    "    \"\"\"Convert all characters to lowercase from list of tokenized words\"\"\"\n",
    "    new_words = []\n",
    "    for word in words:\n",
    "        new_word = word.lower()\n",
    "        new_words.append(new_word)\n",
    "    return new_words\n",
    "\n",
    "# remove punctuations\n",
    "def remove_punctuation(words):\n",
    "    \"\"\"Remove punctuation from list of tokenized words\"\"\"\n",
    "    new_words = []\n",
    "    for word in words:\n",
    "        new_word = re.sub(r'[^\\w\\s]', '', word)\n",
    "        if new_word != '':\n",
    "            new_words.append(new_word)\n",
    "    return new_words\n",
    "\n",
    "# remove stopwords\n",
    "def remove_stopwords(words):\n",
    "    \"\"\"Remove stop words from list of tokenized words\"\"\"\n",
    "    new_words = []\n",
    "    for word in words:\n",
    "        if word not in stopwords:\n",
    "            new_words.append(word)\n",
    "    return new_words\n",
    "\n",
    "# in this work we chose to use Lemmatizer instead of Stemmer\n",
    "lemmatizer = WordNetLemmatizer()\n",
    "def lemmatize_list(words):\n",
    "    new_words = []\n",
    "    for word in words:\n",
    "      new_words.append(lemmatizer.lemmatize(word, pos='v'))\n",
    "    return new_words\n",
    "\n",
    "def preprocess(words):\n",
    "    words = remove_accented_chars(words)\n",
    "    words = to_lowercase(words)\n",
    "    words = remove_punctuation(words)\n",
    "    words = remove_stopwords(words)\n",
    "    words = lemmatize_list(words)\n",
    "    return ' '.join(words)\n",
    "\n",
    "twitter_data['text'] = twitter_data.apply(lambda row: preprocess(row['text']), axis=1)\n"
   ]
  },
  {
   "cell_type": "code",
   "execution_count": 89,
   "metadata": {},
   "outputs": [
    {
     "data": {
      "text/html": [
       "<div>\n",
       "<style scoped>\n",
       "    .dataframe tbody tr th:only-of-type {\n",
       "        vertical-align: middle;\n",
       "    }\n",
       "\n",
       "    .dataframe tbody tr th {\n",
       "        vertical-align: top;\n",
       "    }\n",
       "\n",
       "    .dataframe thead th {\n",
       "        text-align: right;\n",
       "    }\n",
       "</style>\n",
       "<table border=\"1\" class=\"dataframe\">\n",
       "  <thead>\n",
       "    <tr style=\"text-align: right;\">\n",
       "      <th></th>\n",
       "      <th>airline_sentiment</th>\n",
       "      <th>text</th>\n",
       "    </tr>\n",
       "  </thead>\n",
       "  <tbody>\n",
       "    <tr>\n",
       "      <th>0</th>\n",
       "      <td>1</td>\n",
       "      <td>virginamerica dhepburn say</td>\n",
       "    </tr>\n",
       "    <tr>\n",
       "      <th>1</th>\n",
       "      <td>2</td>\n",
       "      <td>virginamerica plus add commercials experience tacky</td>\n",
       "    </tr>\n",
       "    <tr>\n",
       "      <th>2</th>\n",
       "      <td>1</td>\n",
       "      <td>virginamerica nt today must mean need take another trip</td>\n",
       "    </tr>\n",
       "    <tr>\n",
       "      <th>3</th>\n",
       "      <td>0</td>\n",
       "      <td>virginamerica really aggressive blast obnoxious entertainment guests face little recourse</td>\n",
       "    </tr>\n",
       "    <tr>\n",
       "      <th>4</th>\n",
       "      <td>0</td>\n",
       "      <td>virginamerica really big bad thing</td>\n",
       "    </tr>\n",
       "  </tbody>\n",
       "</table>\n",
       "</div>"
      ],
      "text/plain": [
       "   airline_sentiment  \\\n",
       "0                  1   \n",
       "1                  2   \n",
       "2                  1   \n",
       "3                  0   \n",
       "4                  0   \n",
       "\n",
       "                                                                                        text  \n",
       "0                                                                 virginamerica dhepburn say  \n",
       "1                                        virginamerica plus add commercials experience tacky  \n",
       "2                                    virginamerica nt today must mean need take another trip  \n",
       "3  virginamerica really aggressive blast obnoxious entertainment guests face little recourse  \n",
       "4                                                         virginamerica really big bad thing  "
      ]
     },
     "execution_count": 89,
     "metadata": {},
     "output_type": "execute_result"
    }
   ],
   "source": [
    "# print first five rows of data after pre-processing\n",
    "twitter_data.head()"
   ]
  },
  {
   "cell_type": "markdown",
   "metadata": {},
   "source": [
    "### Vectorization: (10 Marks)\n",
    "a. Use CountVectorizer.\n",
    "b. Use TfidfVectorizer."
   ]
  },
  {
   "cell_type": "code",
   "execution_count": 90,
   "metadata": {},
   "outputs": [],
   "source": [
    "# CountVectorizer\n",
    "from sklearn.feature_extraction.text import CountVectorizer\n",
    "# Keep only 1000 features as number of features will increase the processing\n",
    "count_vectorizer = CountVectorizer(max_features=1000)                "
   ]
  },
  {
   "cell_type": "code",
   "execution_count": 91,
   "metadata": {},
   "outputs": [],
   "source": [
    "# Tfidf Vectorizer\n",
    "from sklearn.feature_extraction.text import TfidfVectorizer\n",
    "# Keep only 1000 features as number of features will increase the processing\n",
    "tfidf_vectorizer = TfidfVectorizer(max_features=1000)"
   ]
  },
  {
   "cell_type": "markdown",
   "metadata": {},
   "source": [
    "### Fit and evaluate model using both type of vectorization. (6+6 Marks)"
   ]
  },
  {
   "cell_type": "code",
   "execution_count": 92,
   "metadata": {},
   "outputs": [],
   "source": [
    "sentiment = twitter_data['airline_sentiment']\n",
    "sentiment = sentiment.astype('int')"
   ]
  },
  {
   "cell_type": "code",
   "execution_count": 93,
   "metadata": {},
   "outputs": [
    {
     "data": {
      "text/plain": [
       "0    9178\n",
       "1    3099\n",
       "2    2363\n",
       "Name: airline_sentiment, dtype: int64"
      ]
     },
     "execution_count": 93,
     "metadata": {},
     "output_type": "execute_result"
    }
   ],
   "source": [
    "sentiment.value_counts()\n",
    "# in the sentiment data, there were a total of 9178 negative sentiments, 3099 neutral sentiments and 2363 postive sentiments"
   ]
  },
  {
   "cell_type": "markdown",
   "metadata": {},
   "source": [
    "#### Fit and evaluate model using count vectorization"
   ]
  },
  {
   "cell_type": "code",
   "execution_count": 94,
   "metadata": {},
   "outputs": [],
   "source": [
    "data_features_count = count_vectorizer.fit_transform(twitter_data['text'])\n",
    "data_features_count = data_features_count.toarray()                        # Convert the data features to array."
   ]
  },
  {
   "cell_type": "code",
   "execution_count": 95,
   "metadata": {},
   "outputs": [
    {
     "data": {
      "text/plain": [
       "(14640, 1000)"
      ]
     },
     "execution_count": 95,
     "metadata": {},
     "output_type": "execute_result"
    }
   ],
   "source": [
    "data_features_count.shape"
   ]
  },
  {
   "cell_type": "code",
   "execution_count": 96,
   "metadata": {},
   "outputs": [],
   "source": [
    "# Split data into training and testing set.\n",
    "#from sklearn.model_selection import train_test_split\n",
    "X_train, X_test, y_train, y_test = train_test_split(data_features_count, sentiment, test_size=0.3, random_state=22)"
   ]
  },
  {
   "cell_type": "code",
   "execution_count": 97,
   "metadata": {},
   "outputs": [
    {
     "name": "stdout",
     "output_type": "stream",
     "text": [
      "RandomForestClassifier(bootstrap=True, ccp_alpha=0.0, class_weight=None,\n",
      "                       criterion='gini', max_depth=None, max_features='auto',\n",
      "                       max_leaf_nodes=None, max_samples=None,\n",
      "                       min_impurity_decrease=0.0, min_impurity_split=None,\n",
      "                       min_samples_leaf=1, min_samples_split=2,\n",
      "                       min_weight_fraction_leaf=0.0, n_estimators=15, n_jobs=4,\n",
      "                       oob_score=False, random_state=None, verbose=0,\n",
      "                       warm_start=False)\n",
      "0.7137295081967213\n"
     ]
    }
   ],
   "source": [
    "# Build model using Random Forest Classifier.\n",
    "# Also calculating the cross validation score.\n",
    "forest_count = RandomForestClassifier(n_estimators=15, n_jobs=4)\n",
    "forest_count = forest_count.fit(X_train, y_train)\n",
    "print(forest_count)\n",
    "print(np.mean(cross_val_score(forest_count, data_features_count, sentiment, cv=10)))"
   ]
  },
  {
   "cell_type": "code",
   "execution_count": 98,
   "metadata": {},
   "outputs": [
    {
     "data": {
      "text/plain": [
       "array([0, 0, 0, ..., 0, 0, 0])"
      ]
     },
     "execution_count": 98,
     "metadata": {},
     "output_type": "execute_result"
    }
   ],
   "source": [
    "# Predict the result for test data using the model built above.\n",
    "result_count = forest_count.predict(X_test)\n",
    "result_count"
   ]
  },
  {
   "cell_type": "code",
   "execution_count": 99,
   "metadata": {},
   "outputs": [
    {
     "name": "stdout",
     "output_type": "stream",
     "text": [
      "[[2454  220   98]\n",
      " [ 404  433   93]\n",
      " [ 179  119  392]]\n"
     ]
    },
    {
     "data": {
      "text/plain": [
       "<AxesSubplot:>"
      ]
     },
     "execution_count": 99,
     "metadata": {},
     "output_type": "execute_result"
    },
    {
     "data": {
      "image/png": "[encoded data removed]",
      "text/plain": [
       "<Figure size 720x504 with 2 Axes>"
      ]
     },
     "metadata": {
      "needs_background": "light"
     },
     "output_type": "display_data"
    }
   ],
   "source": [
    "# Print and plot Confusion matirx to get an idea of how the distribution of the prediction is, among all the classes.\n",
    "\n",
    "conf_mat = confusion_matrix(y_test, result_count)\n",
    "\n",
    "print(conf_mat)\n",
    "\n",
    "df_cm = pd.DataFrame(conf_mat, index = [i for i in \"012\"],\n",
    "                  columns = [i for i in \"012\"])\n",
    "plt.figure(figsize = (10,7))\n",
    "sns.heatmap(df_cm, annot=True, fmt='g')"
   ]
  },
  {
   "cell_type": "code",
   "execution_count": 100,
   "metadata": {},
   "outputs": [],
   "source": [
    "# As can be observed the data is imbalanced as the majority of the sentiments is negative"
   ]
  },
  {
   "cell_type": "markdown",
   "metadata": {},
   "source": [
    "#### Fit and evaluate model using Tfidf vectorization"
   ]
  },
  {
   "cell_type": "code",
   "execution_count": 101,
   "metadata": {},
   "outputs": [
    {
     "name": "stdout",
     "output_type": "stream",
     "text": [
      "{'virginamerica': 940, 'say': 765, 'plus': 667, 'add': 12, 'experience': 314, 'nt': 607, 'today': 882, 'must': 582, 'mean': 543, 'need': 587, 'take': 858, 'another': 45, 'trip': 897, 'really': 709, 'entertainment': 292, 'face': 320, 'little': 511, 'big': 103, 'bad': 87, 'thing': 868, 'seriously': 780, 'would': 984, 'pay': 646, 'flight': 351, 'seat': 769, 'play': 664, 'fly': 360, 'yes': 994, 'every': 301, 'time': 878, 'win': 969, 'go': 392, 'away': 82, 'miss': 569, 'without': 973, 'https': 437, 'well': 964, 'amaze': 37, 'arrive': 63, 'hour': 430, 'early': 276, 'good': 396, 'know': 479, 'second': 771, 'lead': 490, 'cause': 140, 'pretty': 680, 'much': 579, 'better': 101, 'great': 397, 'deal': 228, 'already': 34, 'think': 870, 'nd': 586, 'even': 298, 'st': 821, 'yet': 996, 'sky': 798, 'travel': 893, 'http': 436, 'thank': 867, 'schedule': 766, 'still': 832, 'mia': 555, 'excite': 308, 'first': 345, 'cross': 210, 'country': 202, 'lax': 488, 'mco': 541, 'hear': 412, 'nothing': 603, 'things': 869, 'virgin': 939, 'america': 38, 'nyc': 610, 'sfo': 785, 'last': 486, 'week': 960, 'could': 199, 'sit': 795, 'due': 274, 'two': 910, 'either': 280, 'help': 415, 'awesome': 83, 'please': 665, 'want': 948, 'fare': 330, 'may': 539, 'three': 873, 'available': 78, 'select': 775, 'love': 523, 'feel': 336, 'make': 532, 'bos': 113, 'las': 485, 'non': 597, 'stop': 833, 'soon': 810, 'guy': 401, 'mess': 552, 'reserve': 735, 'friends': 377, 'give': 390, 'free': 371, 'internet': 464, 'status': 827, 'match': 537, 'program': 689, 'apply': 58, 'weeks': 962, 'call': 128, 'email': 282, 'response': 739, 'happen': 407, 'ur': 926, 'food': 365, 'options': 625, 'least': 492, 'site': 796, 'wo': 974, 'able': 1, 'eat': 279, 'anything': 49, 'next': 593, 'hrs': 435, 'fail': 322, 'worry': 980, 'together': 883, 'ca': 126, 'get': 389, 'cold': 170, 'air': 21, 'ewr': 304, 'middle': 557, 'hi': 418, 'cool': 196, 'birthday': 106, 'enter': 291, 'name': 584, 'book': 112, 'problems': 687, 'hours': 431, 'club': 166, 'post': 674, 'online': 620, 'current': 212, 'leave': 493, 'expensive': 313, 'iad': 441, 'one': 619, 'answer': 46, 'number': 608, 'return': 741, 'phone': 656, 'prefer': 677, 'use': 931, 'option': 624, 'news': 592, 'start': 825, 'end': 287, 'year': 991, 'via': 936, 'nice': 594, 'rt': 752, 'takeoff': 859, 'way': 953, 'best': 100, 'ever': 300, 'do': 265, 'airline': 23, 'around': 61, 'hand': 404, 'support': 846, 'not': 601, 'work': 978, 'view': 938, 'sign': 791, 'beyond': 102, 'hey': 417, 'flyer': 361, 'hard': 409, 'account': 8, 'plz': 668, 'upgrade': 924, 'ticket': 876, 'move': 578, 'new': 590, 'city': 157, 'expire': 315, 'dallas': 219, 'seattle': 770, 'feb': 333, 'reason': 710, 'rock': 746, 'wow': 985, 'mind': 564, 'night': 595, 'oscars': 630, 'suppose': 847, 'minutes': 568, 'ago': 20, 'website': 957, 'show': 789, 'though': 872, 'wish': 972, 'atlanta': 70, 'la': 481, 'th': 866, 'lga': 499, 'try': 902, 'since': 792, 'page': 634, 'never': 588, 'load': 513, 'thx': 875, 'lady': 483, 'let': 496, 'us': 927, 'sorry': 811, 'dca': 227, 'pm': 669, 'check': 150, 'someone': 807, 'hold': 422, 'earlier': 275, 'tonight': 885, 'congrats': 188, 'award': 81, 'everything': 303, 'fine': 343, 'lose': 520, 'bag': 90, 'change': 146, 'reservation': 733, 'credit': 208, 'card': 134, 'fee': 334, 'customer': 215, 'service': 782, 'team': 862, 'track': 890, 'baggage': 91, 'step': 830, 'game': 387, 'ride': 743, 'plane': 662, 'crew': 209, 'airlines': 24, 'like': 503, 'yall': 989, 'morning': 577, 'correct': 197, 'watch': 951, 'different': 256, 'media': 545, 'anyway': 50, 'speak': 818, 'human': 439, 'asap': 64, 'traveler': 894, 'southwestair': 816, 'jetblue': 471, 'member': 547, 'inflight': 456, 'im': 447, 'interest': 462, 'delay': 232, 'late': 487, 'cancel': 130, 'four': 370, 'plan': 661, 'disappoint': 258, 'share': 786, 'business': 122, 'meet': 546, 'trouble': 898, 'wife': 966, 'bring': 117, 'code': 168, 'life': 501, 'home': 423, 'back': 86, 'yeah': 990, 'point': 670, 'tv': 906, 'video': 937, 'flightled': 355, 'jfk': 472, 'saturday': 762, 'land': 484, 'friendly': 376, 'btw': 119, 'mobile': 571, 'passengers': 641, 'tell': 863, 'class': 159, 'bin': 104, 'find': 342, 'anyone': 48, 'useless': 932, 'music': 581, 'direct': 257, 'fll': 358, 'layover': 489, 'vegas': 935, 'buy': 124, 'people': 647, 'customerservice': 217, 'line': 506, 'hang': 406, 'info': 457, 'weather': 955, 'look': 519, 'lot': 521, 'come': 171, 'phl': 653, 'horrible': 428, 'concern': 183, 'helpful': 416, 'rep': 725, 'right': 745, 'bc': 95, 'run': 756, 'gate': 388, 'wait': 945, 'keep': 475, 'totally': 888, 'folks': 363, 'problem': 686, 'min': 563, 'connect': 189, 'seem': 774, 'long': 517, 'san': 761, 'absolute': 2, 'provide': 692, 'completely': 181, 'month': 575, 'nonstop': 599, 'depart': 239, 'customers': 216, 'process': 688, 'link': 507, 'tsa': 903, 'terrible': 865, 'hotel': 429, 'assistance': 68, 'yesterday': 995, 'longer': 518, 'pls': 666, 'advise': 15, 'drop': 273, 'always': 36, 'frustrate': 379, 'extra': 318, 'luggage': 527, 'might': 559, 'hire': 420, 'world': 979, 'flt': 359, 'midnight': 558, 'monday': 573, 'cant': 131, 'imagine': 448, 'web': 956, 'staff': 822, 'super': 844, 'premium': 679, 'offer': 611, 'sad': 758, 'question': 697, 'possible': 673, 'welcome': 963, 'dc': 226, 'understand': 917, 'dm': 263, 'damage': 220, 'policy': 671, 'special': 819, 'alone': 32, 'kid': 476, 'priority': 684, 'board': 111, 'purchase': 694, 'happy': 408, 'definitely': 230, 'dfw': 250, 'friday': 374, 'error': 295, 'contact': 193, 'minute': 567, 'reschedule': 732, 'fix': 347, 'tomorrow': 884, 'unacceptable': 915, 'stick': 831, 'include': 454, 'agent': 18, 'close': 163, 'assist': 67, 'austin': 75, 'route': 750, 'receive': 714, 'reply': 726, 'smh': 802, 'airport': 26, 'checkin': 151, 'desk': 245, 'open': 622, 'luv': 528, 'begin': 97, 'fuck': 380, 'unite': 921, 'fl': 348, 'follow': 364, 'many': 535, 'worse': 981, 'respond': 738, 'spend': 820, 'money': 574, 'strand': 836, 'reimburse': 721, 'choice': 155, 'southwest': 815, 'days': 225, 'confirmation': 187, 'claim': 158, 'notification': 605, 'rebook': 711, 'gold': 394, 'worst': 982, 'stuff': 838, 'wrong': 987, 'issue': 467, 'item': 468, 'head': 411, 'americanairlines': 41, 'suck': 840, 'flightlation': 353, 'notice': 604, 'drive': 272, 'boston': 114, 'expect': 312, 'high': 419, 'quick': 698, 'apparently': 55, 'send': 777, 'ny': 609, 'pilot': 659, 'job': 473, 'snow': 804, 'area': 60, 'afternoon': 17, 'row': 751, 'mention': 549, 'mechanical': 544, 'handle': 405, 'drink': 271, 'twitter': 909, 'kill': 477, 'charge': 147, 'refuse': 719, 'refund': 718, 'access': 6, 'iphone': 466, 'passbook': 639, 'break': 116, 'forward': 369, 'gon': 395, 'na': 583, 'cost': 198, 'ugh': 912, 'along': 33, 'put': 696, 'report': 727, 'center': 142, 'bite': 107, 'attendant': 72, 'base': 93, 'something': 808, 'departure': 241, 'sound': 813, 'fun': 382, 'update': 923, 'count': 200, 'continue': 194, 'sort': 812, 'ice': 443, 'coffee': 169, 'passenger': 640, 'trust': 901, 'file': 338, 'destination': 247, 'easy': 278, 'itinerary': 469, 'see': 773, 'become': 96, 'march': 536, 'entire': 293, 'improve': 453, 'request': 730, 'window': 970, 'confirm': 186, 'treat': 896, 'wtf': 988, 'frequent': 373, 'inconvenience': 455, 'full': 381, 'place': 660, 'result': 740, 'instead': 461, 'cabin': 127, 'behind': 98, 'suitcase': 842, 'past': 642, 'order': 627, 'husband': 440, 'screen': 767, 'light': 502, 'funny': 384, 'story': 835, 'wonder': 975, 'despite': 246, 'safety': 760, 'day': 224, 'rout': 749, 'newark': 591, 'hope': 426, 'probably': 685, 'save': 763, 'standby': 824, 'absolutely': 3, 'ready': 706, 'manage': 534, 'old': 617, 'battle': 94, 'less': 495, 'half': 403, 'price': 682, 'round': 748, 'sell': 776, 'promise': 690, 'resolution': 736, 'care': 135, 'lovely': 524, 'mileage': 560, 'several': 784, 'americanair': 40, 'glad': 391, 'years': 992, 'earn': 277, 'couple': 203, 'message': 553, 'hop': 425, 'force': 366, 'small': 801, 'carry': 136, 'empty': 286, 'space': 817, 'slow': 800, 'representative': 728, 'solution': 806, 'loyal': 525, 'rd': 702, 'partner': 636, 'turn': 905, 'course': 204, 'family': 326, 'ok': 615, 'receipt': 713, 'currently': 213, 'pick': 658, 'tweet': 907, 'rental': 724, 'car': 133, 'cust': 214, 'child': 153, 'chance': 145, 'bank': 92, 'joke': 474, 'also': 35, 'tix': 880, 'yr': 998, 'submit': 839, 'ceo': 143, 'pull': 693, 'computer': 182, 'guess': 400, 'announce': 43, 'deserve': 244, 'fyi': 386, 'address': 14, 'exist': 310, 'svc': 850, 'app': 54, 'favorite': 332, 'uk': 913, 'set': 783, 'mexico': 554, 'waste': 950, 'system': 854, 'accept': 4, 'likely': 504, 'learn': 491, 'philadelphia': 651, 'houston': 432, 'finally': 341, 'avgeek': 79, 'forget': 367, 'future': 385, 'poor': 672, 'diego': 253, 'excellent': 306, 'additional': 13, 'group': 399, 'room': 747, 'nightmare': 596, 'sure': 848, 'shit': 787, 'bump': 120, 'stay': 828, 'raise': 699, 'man': 533, 'wifi': 967, 'saw': 764, 'part': 635, 'whole': 965, 'short': 788, 'overhead': 632, 'person': 649, 'ask': 65, 'luck': 526, 'accommodate': 7, 'lol': 516, 'others': 631, 'actual': 10, 'travelers': 895, 'storm': 834, 'complete': 180, 'cut': 218, 'philly': 652, 'months': 576, 'reps': 729, 'regard': 720, 'actually': 11, 'word': 977, 'resolve': 737, 'lack': 482, 'deice': 231, 'fill': 339, 'connections': 191, 'international': 463, 'orlando': 629, 'mins': 566, 'serious': 779, 'domestic': 267, 'ta': 856, 'oh': 613, 'auto': 76, 'transfer': 892, 'security': 772, 'case': 137, 'wonderful': 976, 'voucher': 943, 'mail': 529, 'company': 174, 'maybe': 540, 'pass': 638, 'son': 809, 'miami': 556, 'total': 887, 'explain': 316, 'talk': 860, 'almost': 31, 'ppl': 676, 'daughter': 223, 'flightr': 357, 'anymore': 47, 'platinum': 663, 'badcustomerservice': 88, 'agents': 19, 'rude': 753, 'overnight': 633, 'hr': 434, 'iah': 442, 'dmed': 264, 'detail': 249, 'charlotte': 148, 'ignore': 446, 'touch': 889, 'form': 368, 'vouchers': 944, 'anywhere': 51, 'grind': 398, 'else': 281, 'appreciate': 59, 'tarmac': 861, 'ua': 911, 'rule': 755, 'enough': 290, 'denver': 237, 'train': 891, 'mistake': 570, 'ord': 626, 'avoid': 80, 'supervisor': 845, 'require': 731, 'thru': 874, 'dept': 243, 'will': 968, 'connection': 190, 'upset': 925, 'employees': 285, 'equipment': 294, 'intl': 465, 'mom': 572, 'emergency': 283, 'miles': 562, 'mileageplus': 561, 'complain': 177, 'american': 39, 'coach': 167, 'bird': 105, 'control': 195, 'rather': 701, 'delta': 235, 'attendants': 73, 'unhelpful': 920, 'bother': 115, 'attempt': 71, 'believe': 99, 'stand': 823, 'record': 715, 'read': 705, 'everyone': 302, 'switch': 853, 'aircraft': 22, 'crash': 206, 'winter': 971, 'reach': 704, 'honor': 424, 'pathetic': 643, 'ways': 954, 'baby': 85, 'mine': 565, 'apology': 53, 'finger': 344, 'enjoy': 289, 'zero': 999, 'excuse': 309, 'members': 548, 'weekend': 961, 'flightd': 352, 'listen': 509, 'limit': 505, 'appear': 56, 'unhappy': 919, 'complaint': 178, 'awful': 84, 'jet': 470, 'yep': 993, 'matter': 538, 'atl': 69, 'worth': 983, 'airports': 27, 'conf': 185, 'communication': 172, 'far': 329, 'note': 602, 'top': 886, 'unitedairlines': 922, 'kudos': 480, 'flightling': 356, 'usually': 933, 'advisory': 16, 'remember': 723, 'extremely': 319, 'captain': 132, 'real': 707, 'clothe': 164, 'leg': 494, 'chicago': 152, 'lounge': 522, 'okay': 616, 'onto': 621, 'impossible': 451, 'terminal': 864, 'arrival': 62, 'information': 459, 'vacation': 934, 'nope': 600, 'sleep': 799, 'ruin': 754, 'compensation': 176, 'original': 628, 'deliver': 233, 'delivery': 234, 'write': 986, 'employee': 284, 'blame': 108, 'previous': 681, 'feedback': 335, 'tire': 879, 'clt': 165, 'idea': 445, 'neveragain': 589, 'figure': 337, 'screw': 768, 'counter': 201, 'unfortunately': 918, 'premier': 678, 'annoy': 44, 'phoenix': 655, 'front': 378, 'fact': 321, 'walk': 946, 'bwi': 125, 'bs': 118, 'yo': 997, 'consider': 192, 'unable': 914, 'diff': 254, 'tag': 857, 'impress': 452, 'ridiculous': 744, 'fall': 325, 'fleet': 350, 'serve': 781, 'major': 531, 'situation': 797, 'literally': 510, 'list': 508, 'inside': 460, 'final': 340, 'failure': 323, 'airplane': 25, 'however': 433, 'clear': 161, 'date': 222, 'aa': 0, 'lie': 500, 'catch': 138, 'fair': 324, 'den': 236, 'ohare': 614, 'reservations': 734, 'office': 612, 'damn': 221, 'tho': 871, 'reflight': 717, 'single': 793, 'steal': 829, 'cs': 211, 'tuesday': 904, 'fit': 346, 'deny': 238, 'exactly': 305, 'etc': 297, 'power': 675, 'id': 444, 'multiple': 580, 'angry': 42, 'merger': 551, 'flyers': 362, 'state': 826, 'maintenance': 530, 'personal': 650, 'level': 498, 'sick': 790, 'prompt': 691, 'friend': 375, 'twice': 908, 'choose': 156, 'difference': 255, 'allow': 30, 'redeem': 716, 'cc': 141, 'rebooked': 712, 'sunday': 843, 'assign': 66, 'sense': 778, 'hate': 410, 'huge': 438, 'badservice': 89, 'hopefully': 427, 'complaints': 179, 'hell': 413, 'rdu': 703, 'onboard': 618, 'usairways': 929, 'usairwaysfail': 930, 'suggest': 841, 'freeze': 372, 'dollars': 266, 'door': 269, 'engine': 288, 'deplane': 242, 'crazy': 207, 'clean': 160, 'print': 683, 'airways': 28, 'operate': 623, 'till': 877, 'fan': 327, 'visit': 941, 'fault': 331, 'nashville': 585, 'surprise': 849, 'patience': 644, 'bus': 121, 'compensate': 175, 'hit': 421, 'attitude': 74, 'disgust': 261, 'cover': 205, 'locate': 514, 'disconnect': 259, 'none': 598, 'act': 9, 'important': 450, 'flightlations': 354, 'per': 648, 'except': 307, 'explanation': 317, 'dont': 268, 'cheap': 149, 'realize': 708, 'god': 393, 'wall': 947, 'log': 515, 'social': 805, 'runway': 757, 'true': 899, 'live': 512, 'push': 695, 'safe': 759, 'cater': 139, 'busy': 123, 'notify': 606, 'discount': 260, 'funeral': 383, 'condition': 184, 'acceptable': 5, 'wed': 958, 'hello': 414, 'relations': 722, 'sister': 794, 'especially': 296, 'decide': 229, 'children': 154, 'callback': 129, 'water': 952, 'tmrw': 881, 'rate': 700, 'merge': 550, 'eventually': 299, 'south': 814, 'bna': 110, 'exit': 311, 'die': 252, 'kind': 478, 'meal': 542, 'unbelievable': 916, 'party': 637, 'clearly': 162, 'department': 240, 'volume': 942, 'patient': 645, 'wednesday': 959, 'snack': 803, 'automate': 77, 'companion': 173, 'haha': 402, 'fantastic': 328, 'sw': 851, 'alert': 29, 'systems': 855, 'letter': 497, 'reward': 742, 'inform': 458, 'apologize': 52, 'warm': 949, 'street': 837, 'phx': 657, 'swa': 852, 'phlairport': 654, 'destinationdragons': 248, 'imaginedragons': 449, 'dragons': 270, 'usair': 928, 'blue': 109, 'fleek': 349, 'trueblue': 900, 'appease': 57, 'dividend': 262, 'chairman': 144, 'dfwairport': 251}\n",
      "[5.03089946 5.79579055 7.45608688 7.15759389 7.09507353 7.41352726\n",
      " 6.90270164 7.29574423 6.23487226 7.64714211 7.50053864 6.12567297\n",
      " 5.76326735 7.70120933 6.58424791 7.54705865 7.41352726 7.15759389\n",
      " 5.03862151 5.57430125 5.69374129 5.63575403 7.12584519 4.61016688\n",
      " 5.54172508 7.41352726 4.75677035 7.45608688 6.13723379 7.70120933\n",
      " 6.13723379 6.0272329  7.64714211 7.64714211 5.40979754 5.70123196\n",
      " 5.90944986 5.9568521  7.54705865 6.23487226 2.60202064 7.19038371\n",
      " 7.54705865 7.19038371 7.50053864 5.00433243 5.34983408 7.25937658\n",
      " 5.86419327 5.68630631 7.22428526 7.25937658 7.50053864 6.69976079\n",
      " 5.96660828 6.92801945 7.45608688 7.59584882 7.19038371 5.52267689\n",
      " 7.15759389 6.43269801 7.12584519 5.56770057 6.83038098 5.51017673\n",
      " 7.59584882 7.25937658 6.60259704 6.98066318 6.98066318 7.22428526\n",
      " 6.09177142 6.54852982 7.19038371 7.03623303 7.70120933 6.87800902\n",
      " 5.93762074 7.45608688 7.64714211 6.67955809 6.27409298 5.78756005\n",
      " 6.51404365 7.22428526 4.34935783 5.40419529 7.64714211 7.50053864\n",
      " 4.05199514 5.18890371 7.41352726 7.59584882 7.50053864 6.0272329\n",
      " 7.41352726 7.37270527 7.29574423 6.51404365 5.33408572 5.39862424\n",
      " 6.87800902 6.31491497 7.64714211 7.50053864 7.12584519 7.19038371\n",
      " 7.22428526 6.76293969 7.25937658 4.79856748 4.4074322  6.24777567\n",
      " 6.17274048 7.33348455 5.91875226 6.31491497 7.41352726 7.33348455\n",
      " 6.98066318 7.54705865 5.82940716 6.67955809 6.0377042  6.76293969\n",
      " 4.3339135  6.98066318 4.04479568 7.54705865 3.67189724 6.83038098\n",
      " 7.37270527 6.37207339 6.14892983 5.51017673 6.64033737 6.72038008\n",
      " 7.00806215 7.41352726 6.22213324 7.50053864 7.29574423 6.67955809\n",
      " 7.59584882 6.08072158 4.50936218 5.68630631 6.43269801 7.70120933\n",
      " 4.55371017 6.53113808 6.20955446 7.33348455 7.64714211 7.29574423\n",
      " 7.09507353 6.7849186  5.85538264 5.77939674 7.33348455 7.22428526\n",
      " 7.59584882 6.54852982 6.90270164 6.14892983 6.67955809 7.54705865\n",
      " 7.22428526 7.75836775 7.00806215 5.16223546 6.80739146 6.85391147\n",
      " 6.08072158 7.12584519 6.98066318 7.54705865 6.76293969 7.33348455\n",
      " 7.00806215 6.95399493 6.7849186  6.7849186  7.54705865 7.25937658\n",
      " 6.26084775 6.38688847 7.70120933 5.70123196 5.57430125 6.98066318\n",
      " 7.06522057 5.8124576  6.92801945 7.29574423 6.41719382 6.80739146\n",
      " 6.24777567 4.75677035 6.287516   6.7849186  7.09507353 7.70120933\n",
      " 7.19038371 7.19038371 7.64714211 7.06522057 5.747394   5.11511754\n",
      " 6.95399493 7.33348455 7.45608688 6.7849186  6.65975546 3.99171059\n",
      " 5.37664533 6.95399493 7.19038371 6.16076429 7.41352726 7.45608688\n",
      " 6.72038008 7.25937658 4.80468371 5.14484372 6.51404365 5.99646124\n",
      " 5.9568521  7.59584882 7.45608688 7.50053864 3.75532181 6.58424791\n",
      " 7.59584882 5.928142   6.76293969 6.20955446 7.37270527 6.35747459\n",
      " 7.59584882 6.08072158 7.41352726 7.64714211 7.29574423 6.34308585\n",
      " 7.06522057 6.41719382 6.17274048 6.7849186  5.61484735 7.70120933\n",
      " 7.54705865 7.59584882 7.70120933 7.50053864 6.10294472 6.04828631\n",
      " 5.73176869 6.58424791 7.64714211 7.37270527 7.19038371 5.01185127\n",
      " 7.64714211 5.72404664 7.64714211 7.33348455 7.15759389 7.33348455\n",
      " 7.64714211 6.80739146 6.27409298 6.41719382 5.10264337 6.06979251\n",
      " 6.0589816  7.33348455 6.95399493 7.64714211 6.83038098 6.48070723\n",
      " 4.97480999 7.64714211 7.00806215 6.14892983 6.74143349 6.30112165\n",
      " 7.64714211 7.06522057 6.30112165 7.37270527 7.33348455 6.76293969\n",
      " 7.50053864 6.67955809 7.45608688 7.64714211 4.82013997 7.70120933\n",
      " 5.12352095 5.86419327 6.12567297 6.58424791 6.24777567 7.64714211\n",
      " 7.22428526 7.45608688 7.22428526 7.15759389 7.70120933 7.59584882\n",
      " 6.12567297 7.64714211 5.14054264 7.12584519 6.72038008 7.33348455\n",
      " 6.01687011 7.06522057 7.50053864 7.00806215 5.62873646 7.41352726\n",
      " 7.45608688 7.64714211 6.18486184 7.33348455 7.50053864 6.24777567\n",
      " 6.60259704 6.85391147 7.54705865 6.92801945 5.8379909  7.25937658\n",
      " 6.17274048 6.5662294  6.69976079 6.95399493 7.54705865 5.76326735\n",
      " 5.08624956 6.92801945 7.37270527 5.04250501 7.59584882 5.70123196\n",
      " 7.15759389 5.5809458  5.56114317 2.31722408 7.37270527 7.06522057\n",
      " 6.85391147 4.38098101 7.64714211 5.51017673 6.62128918 5.60797447\n",
      " 3.97417811 7.25937658 7.54705865 7.19038371 5.34455702 6.287516\n",
      " 6.7849186  6.85391147 6.67955809 6.65975546 7.15759389 5.73176869\n",
      " 7.06522057 7.37270527 7.12584519 6.46444671 7.19038371 7.00806215\n",
      " 7.09507353 5.73955083 6.83038098 6.13723379 7.03623303 7.37270527\n",
      " 7.50053864 6.85391147 7.54705865 7.64714211 4.36504442 3.01241312\n",
      " 4.68621924 6.64033737 4.00403108 7.64714211 7.15759389 7.00806215\n",
      " 4.90460573 4.82952971 6.13723379 6.74143349 6.40192635 4.55849487\n",
      " 7.15759389 6.30112165 7.09507353 6.31491497 5.47358728 5.48563562\n",
      " 6.09177142 6.5662294  6.92801945 6.54852982 5.76326735 7.50053864\n",
      " 7.09507353 3.7693837  5.96660828 6.32890121 6.0589816  6.90270164\n",
      " 7.22428526 7.54705865 4.05488949 4.93558928 7.37270527 6.41719382\n",
      " 5.65710716 6.80739146 6.18486184 5.6428212  4.42616324 4.11769039\n",
      " 6.51404365 7.29574423 5.84664896 4.90122164 3.56515428 6.58424791\n",
      " 6.98066318 6.74143349 7.00806215 6.60259704 6.69976079 7.22428526\n",
      " 7.12584519 6.51404365 7.50053864 6.54852982 7.54705865 6.74143349\n",
      " 7.59584882 7.59584882 7.37270527 7.59584882 7.19038371 6.98066318\n",
      " 7.00806215 5.61484735 7.50053864 6.58424791 7.64714211 5.98641091\n",
      " 7.50053864 6.5662294  7.64714211 7.75836775 7.64714211 4.93558928\n",
      " 7.75836775 7.45608688 6.5662294  2.87601156 5.37664533 6.09177142\n",
      " 6.64033737 5.23499482 6.04828631 7.50053864 7.00806215 4.52084336\n",
      " 7.15759389 6.85391147 6.49723653 7.33348455 5.41543136 6.7849186\n",
      " 4.88115407 4.58031392 5.79579055 7.15759389 7.70120933 6.85391147\n",
      " 6.13723379 4.68078445 6.85391147 6.40192635 4.99315913 7.15759389\n",
      " 7.64714211 6.64033737 6.67955809 6.5662294  7.45608688 4.53949192\n",
      " 7.59584882 7.64714211 5.2588623  6.30112165 6.74143349 7.09507353\n",
      " 7.19038371 6.37207339 6.53113808 6.58424791 7.41352726 7.70120933\n",
      " 6.54852982 5.40979754 6.46444671 4.93909191 4.8232601  6.06979251\n",
      " 7.03623303 5.00433243 7.59584882 6.64033737 6.98066318 5.09441287\n",
      " 7.00806215 7.75836775 6.60259704 7.45608688 4.08281195 7.22428526\n",
      " 7.54705865 5.93762074 7.25937658 7.50053864 7.09507353 6.35747459\n",
      " 6.23487226 6.80739146 7.41352726 5.91875226 6.34308585 6.95399493\n",
      " 6.54852982 6.58424791 7.00806215 7.29574423 7.45608688 7.37270527\n",
      " 6.74143349 6.12567297 7.45608688 7.22428526 6.62128918 7.06522057\n",
      " 7.64714211 6.27409298 7.15759389 7.70120933 5.59436882 5.17993504\n",
      " 7.33348455 7.15759389 5.66432741 6.5662294  4.94967402 4.60764481\n",
      " 7.22428526 7.19038371 7.19038371 6.60259704 6.0589816  6.83038098\n",
      " 6.7849186  5.49783089 6.10294472 5.17993504 7.09507353 7.70120933\n",
      " 6.98066318 6.60259704 5.94719019 6.92801945 6.60259704 4.0948061\n",
      " 4.8485779  7.25937658 5.02706068 6.44844636 7.15759389 5.14916338\n",
      " 5.70123196 5.6011485  7.50053864 7.15759389 7.33348455 7.25937658\n",
      " 7.15759389 3.26117588 6.98066318 5.56114317 7.03623303 7.45608688\n",
      " 7.09507353 3.03358613 5.08624956 7.25937658 6.34308585 5.64993867\n",
      " 7.41352726 6.14892983 7.64714211 5.93762074 6.90270164 6.22213324\n",
      " 7.54705865 4.30372253 5.33408572 7.50053864 5.87308222 7.59584882\n",
      " 6.34308585 6.60259704 6.06979251 7.22428526 6.98066318 6.95399493\n",
      " 7.37270527 7.33348455 7.22428526 7.15759389 7.12584519 6.92801945\n",
      " 7.54705865 7.41352726 5.75529918 7.29574423 6.76293969 5.35513913\n",
      " 6.32890121 7.50053864 7.70120933 7.70120933 4.97845298 4.94967402\n",
      " 7.50053864 5.928142   7.59584882 7.45608688 6.62128918 5.91875226\n",
      " 7.59584882 7.29574423 4.49801132 6.49723653 6.16076429 5.64993867\n",
      " 6.43269801 5.29827627 4.19966398 7.00806215 7.29574423 4.27803304\n",
      " 6.48070723 6.49723653 7.29574423 5.54815597 5.747394   6.287516\n",
      " 6.14892983 6.40192635 6.90270164 7.37270527 7.15759389 7.29574423\n",
      " 7.50053864 7.70120933 6.83038098 7.70120933 6.40192635 7.64714211\n",
      " 7.06522057 6.95399493 5.90023321 5.31346643 6.53113808 7.15759389\n",
      " 6.80739146 7.70120933 6.18486184 7.25937658 6.5662294  7.22428526\n",
      " 5.55462849 6.12567297 6.62128918 7.64714211 7.70120933 6.83038098\n",
      " 7.12584519 7.09507353 6.49723653 6.7849186  6.92801945 6.51404365\n",
      " 7.50053864 4.8944876  6.17274048 5.77129953 5.63575403 7.41352726\n",
      " 5.80408935 6.72038008 7.54705865 6.58424791 5.44991753 6.74143349\n",
      " 7.29574423 7.41352726 7.15759389 7.50053864 7.70120933 6.06979251\n",
      " 6.10294472 6.83038098 7.64714211 7.09507353 6.18486184 7.54705865\n",
      " 6.19713194 5.49783089 6.35747459 7.70120933 7.70120933 6.67955809\n",
      " 6.10294472 5.27837511 7.54705865 6.00661361 7.29574423 7.25937658\n",
      " 6.10294472 5.21630268 6.72038008 6.54852982 7.19038371 7.25937658\n",
      " 7.19038371 6.41719382 6.0377042  5.71638377 6.7849186  7.50053864\n",
      " 6.0589816  6.46444671 6.95399493 7.41352726 6.92801945 6.26084775\n",
      " 7.29574423 6.95399493 7.22428526 4.41779499 6.00661361 7.54705865\n",
      " 6.69976079 4.46908828 7.54705865 6.48070723 7.45608688 4.8485779\n",
      " 5.94719019 7.22428526 6.90270164 4.85500879 7.06522057 7.59584882\n",
      " 6.20955446 7.29574423 3.71325462 6.87800902 7.06522057 5.90944986\n",
      " 6.58424791 7.00806215 7.22428526 5.53533529 7.54705865 6.90270164\n",
      " 5.4382895  7.41352726 7.54705865 4.78946272 6.12567297 6.90270164\n",
      " 7.41352726 6.49723653 7.54705865 7.22428526 7.54705865 7.45608688\n",
      " 6.17274048 7.22428526 7.70120933 5.12352095 6.09177142 7.29574423\n",
      " 6.38688847 5.97646057 7.19038371 7.22428526 7.50053864 6.0272329\n",
      " 2.78610647 7.03623303 5.52898606 7.50053864 6.11424428 5.8124576\n",
      " 5.33408572 6.95399493 6.64033737 5.747394   7.03623303 5.90944986\n",
      " 6.287516   7.64714211 7.29574423 5.36583442 4.24945967 5.94719019\n",
      " 6.95399493 7.41352726 6.01687011 7.50053864 7.33348455 6.95399493\n",
      " 5.90023321 7.59584882 7.59584882 6.7849186  6.90270164 6.90270164\n",
      " 6.80739146 5.928142   5.40979754 7.22428526 7.45608688 6.74143349\n",
      " 6.65975546 6.43269801 5.63575403 7.75836775 7.59584882 7.15759389\n",
      " 4.37298097 7.33348455 5.70877917 6.14892983 5.90944986 4.43037377\n",
      " 6.49723653 5.98641091 6.22213324 3.18547771 6.34308585 6.46444671\n",
      " 5.19795354 7.54705865 6.04828631 6.37207339 6.5662294  5.93762074\n",
      " 4.64616048 7.64714211 3.80035963 7.19038371 7.12584519 7.50053864\n",
      " 4.56089583 6.35747459 4.87784829 5.51017673 6.95399493 7.41352726\n",
      " 7.15759389 7.37270527 7.12584519 6.7849186  6.98066318 4.8232601\n",
      " 7.41352726 7.50053864 6.22213324 5.17993504 7.03623303 7.12584519\n",
      " 7.70120933 7.41352726 4.25475536 6.87800902 6.95399493 6.5662294\n",
      " 6.76293969 5.82940716 6.38688847 6.23487226 5.22560508 5.26857111\n",
      " 7.64714211 7.50053864 7.09507353 6.10294472 7.54705865 5.82089647\n",
      " 7.09507353 7.45608688 7.41352726 2.32747533 6.74143349 5.40979754\n",
      " 5.70123196 6.87800902 6.30112165 4.08729292 6.69976079 2.58821803\n",
      " 7.29574423 5.00433243 7.45608688 7.54705865 6.20955446 6.14892983\n",
      " 5.91875226 7.50053864 7.37270527 7.19038371 4.34353822 7.54705865\n",
      " 7.37270527 5.9568521  7.25937658 4.02069813 7.37270527 7.00806215\n",
      " 4.81392877 7.33348455 6.60259704 6.53113808 7.12584519 4.76558098\n",
      " 7.70120933 4.8944876  7.29574423 5.54815597 7.37270527 7.64714211\n",
      " 5.79579055 7.00806215 6.26084775 7.54705865 5.50398476 6.80739146\n",
      " 6.12567297 5.79579055 7.45608688 6.69976079 7.41352726 7.03623303\n",
      " 6.69976079 5.91875226 5.37122527 6.90270164 7.19038371 6.69976079\n",
      " 4.59264453 6.69976079 6.58424791 6.49723653 5.13199558 7.19038371\n",
      " 4.2233939  6.7849186  7.06522057 6.26084775 6.87800902 6.26084775\n",
      " 6.76293969 6.04828631 6.72038008 7.70120933 5.12774929 5.90944986\n",
      " 5.56770057 7.70120933 7.03623303 6.98066318]\n"
     ]
    }
   ],
   "source": [
    "# tokenize and build vocab\n",
    "vectorizer = tfidf_vectorizer.fit(twitter_data['text'])\n",
    "# summarize\n",
    "print(vectorizer.vocabulary_)\n",
    "print(vectorizer.idf_)\n",
    "# encode document\n",
    "data_features_tfidf = vectorizer.fit_transform(twitter_data['text'])\n",
    "# summarize encoded vector\n",
    "data_features_tfidf = data_features_tfidf.toarray()                        # Convert the data features to array."
   ]
  },
  {
   "cell_type": "code",
   "execution_count": 102,
   "metadata": {},
   "outputs": [
    {
     "data": {
      "text/plain": [
       "(14640, 1000)"
      ]
     },
     "execution_count": 102,
     "metadata": {},
     "output_type": "execute_result"
    }
   ],
   "source": [
    "data_features_tfidf.shape"
   ]
  },
  {
   "cell_type": "code",
   "execution_count": 103,
   "metadata": {},
   "outputs": [],
   "source": [
    "# Split data into training and testing set.\n",
    "\n",
    "from sklearn.model_selection import train_test_split\n",
    "\n",
    "X_train, X_test, y_train, y_test = train_test_split(data_features_tfidf, sentiment, test_size=0.3, random_state=22)"
   ]
  },
  {
   "cell_type": "code",
   "execution_count": 104,
   "metadata": {},
   "outputs": [
    {
     "name": "stdout",
     "output_type": "stream",
     "text": [
      "RandomForestClassifier(bootstrap=True, ccp_alpha=0.0, class_weight=None,\n",
      "                       criterion='gini', max_depth=None, max_features='auto',\n",
      "                       max_leaf_nodes=None, max_samples=None,\n",
      "                       min_impurity_decrease=0.0, min_impurity_split=None,\n",
      "                       min_samples_leaf=1, min_samples_split=2,\n",
      "                       min_weight_fraction_leaf=0.0, n_estimators=15, n_jobs=4,\n",
      "                       oob_score=False, random_state=None, verbose=0,\n",
      "                       warm_start=False)\n",
      "0.7110655737704918\n"
     ]
    }
   ],
   "source": [
    "forest_tfidf = RandomForestClassifier(n_estimators=15, n_jobs=4)\n",
    "\n",
    "forest_tfidf = forest_tfidf.fit(X_train, y_train)\n",
    "\n",
    "print(forest_tfidf)\n",
    "\n",
    "print(np.mean(cross_val_score(forest_tfidf, data_features_tfidf, sentiment, cv=10)))"
   ]
  },
  {
   "cell_type": "code",
   "execution_count": 105,
   "metadata": {},
   "outputs": [
    {
     "data": {
      "text/plain": [
       "array([0, 0, 1, ..., 0, 0, 0])"
      ]
     },
     "execution_count": 105,
     "metadata": {},
     "output_type": "execute_result"
    }
   ],
   "source": [
    "# Predict the result for test data using the model built above.\n",
    "result_tfidf = forest_tfidf.predict(X_test)\n",
    "result_tfidf"
   ]
  },
  {
   "cell_type": "code",
   "execution_count": 106,
   "metadata": {},
   "outputs": [
    {
     "name": "stdout",
     "output_type": "stream",
     "text": [
      "[[2553  148   71]\n",
      " [ 463  394   73]\n",
      " [ 224  103  363]]\n"
     ]
    },
    {
     "data": {
      "text/plain": [
       "<AxesSubplot:>"
      ]
     },
     "execution_count": 106,
     "metadata": {},
     "output_type": "execute_result"
    },
    {
     "data": {
      "image/png": "[encoded data removed]",
      "text/plain": [
       "<Figure size 720x504 with 2 Axes>"
      ]
     },
     "metadata": {
      "needs_background": "light"
     },
     "output_type": "display_data"
    }
   ],
   "source": [
    "# Print and plot Confusion matirx to get an idea of how the distribution of the prediction is, among all the classes.\n",
    "\n",
    "conf_mat = confusion_matrix(y_test, result_tfidf)\n",
    "\n",
    "print(conf_mat)\n",
    "\n",
    "df_cm = pd.DataFrame(conf_mat, index = [i for i in \"012\"],\n",
    "                  columns = [i for i in \"012\"])\n",
    "plt.figure(figsize = (10,7))\n",
    "sns.heatmap(df_cm, annot=True, fmt='g')"
   ]
  },
  {
   "cell_type": "markdown",
   "metadata": {},
   "source": [
    "###  Summarize your understanding of the application of Various Pre-processing and Vectorization and performance of your model on this dataset. (8 Marks)"
   ]
  },
  {
   "cell_type": "markdown",
   "metadata": {},
   "source": [
    "#### Evaluate the relative performance of the two vectorizer-based models"
   ]
  },
  {
   "cell_type": "code",
   "execution_count": 107,
   "metadata": {},
   "outputs": [
    {
     "name": "stdout",
     "output_type": "stream",
     "text": [
      "0.7465846994535519\n"
     ]
    }
   ],
   "source": [
    "acc_count = accuracy_score(y_test, result_count)\n",
    "print(acc_count)"
   ]
  },
  {
   "cell_type": "code",
   "execution_count": 108,
   "metadata": {},
   "outputs": [
    {
     "data": {
      "text/html": [
       "<div>\n",
       "<style scoped>\n",
       "    .dataframe tbody tr th:only-of-type {\n",
       "        vertical-align: middle;\n",
       "    }\n",
       "\n",
       "    .dataframe tbody tr th {\n",
       "        vertical-align: top;\n",
       "    }\n",
       "\n",
       "    .dataframe thead th {\n",
       "        text-align: right;\n",
       "    }\n",
       "</style>\n",
       "<table border=\"1\" class=\"dataframe\">\n",
       "  <thead>\n",
       "    <tr style=\"text-align: right;\">\n",
       "      <th></th>\n",
       "      <th>Method</th>\n",
       "      <th>accuracy</th>\n",
       "    </tr>\n",
       "  </thead>\n",
       "  <tbody>\n",
       "    <tr>\n",
       "      <th>0</th>\n",
       "      <td>Count_Vectorizer</td>\n",
       "      <td>0.746585</td>\n",
       "    </tr>\n",
       "  </tbody>\n",
       "</table>\n",
       "</div>"
      ],
      "text/plain": [
       "             Method  accuracy\n",
       "0  Count_Vectorizer  0.746585"
      ]
     },
     "execution_count": 108,
     "metadata": {},
     "output_type": "execute_result"
    }
   ],
   "source": [
    "#Store the accuracy results for each model in a dataframe for final comparison\n",
    "resultsDf = pd.DataFrame({'Method':['Count_Vectorizer'], 'accuracy': acc_count})\n",
    "resultsDf = resultsDf[['Method', 'accuracy']]\n",
    "resultsDf"
   ]
  },
  {
   "cell_type": "code",
   "execution_count": 109,
   "metadata": {},
   "outputs": [
    {
     "name": "stdout",
     "output_type": "stream",
     "text": [
      "0.7536429872495446\n"
     ]
    }
   ],
   "source": [
    "acc_tfidf = accuracy_score(y_test, result_tfidf)\n",
    "print(acc_tfidf)"
   ]
  },
  {
   "cell_type": "code",
   "execution_count": 63,
   "metadata": {},
   "outputs": [
    {
     "data": {
      "text/html": [
       "<div>\n",
       "<style scoped>\n",
       "    .dataframe tbody tr th:only-of-type {\n",
       "        vertical-align: middle;\n",
       "    }\n",
       "\n",
       "    .dataframe tbody tr th {\n",
       "        vertical-align: top;\n",
       "    }\n",
       "\n",
       "    .dataframe thead th {\n",
       "        text-align: right;\n",
       "    }\n",
       "</style>\n",
       "<table border=\"1\" class=\"dataframe\">\n",
       "  <thead>\n",
       "    <tr style=\"text-align: right;\">\n",
       "      <th></th>\n",
       "      <th>Method</th>\n",
       "      <th>accuracy</th>\n",
       "    </tr>\n",
       "  </thead>\n",
       "  <tbody>\n",
       "    <tr>\n",
       "      <th>0</th>\n",
       "      <td>Count_Vectorizer</td>\n",
       "      <td>0.739071</td>\n",
       "    </tr>\n",
       "    <tr>\n",
       "      <th>0</th>\n",
       "      <td>Tfidf</td>\n",
       "      <td>0.754554</td>\n",
       "    </tr>\n",
       "  </tbody>\n",
       "</table>\n",
       "</div>"
      ],
      "text/plain": [
       "             Method  accuracy\n",
       "0  Count_Vectorizer  0.739071\n",
       "0             Tfidf  0.754554"
      ]
     },
     "execution_count": 63,
     "metadata": {},
     "output_type": "execute_result"
    }
   ],
   "source": [
    "tempResults = pd.DataFrame({'Method':['Tfidf'], 'accuracy': acc_tfidf})\n",
    "resultsDf = pd.concat([resultsDf, tempResults])\n",
    "#resultsDf = resultsDf[['Method', 'accuracy']]\n",
    "resultsDf#Store the accuracy results for each model in a dataframe for final comparison"
   ]
  },
  {
   "cell_type": "code",
   "execution_count": 64,
   "metadata": {},
   "outputs": [
    {
     "data": {
      "image/png": "[encoded data removed]",
      "text/plain": [
       "<Figure size 576x396 with 2 Axes>"
      ]
     },
     "metadata": {},
     "output_type": "display_data"
    },
    {
     "data": {
      "image/png": "[encoded data removed]",
      "text/plain": [
       "<Figure size 576x396 with 1 Axes>"
      ]
     },
     "metadata": {},
     "output_type": "display_data"
    },
    {
     "data": {
      "text/plain": [
       "<AxesSubplot:title={'center':'ROC Curves for RandomForestClassifier'}, xlabel='False Positive Rate', ylabel='True Postive Rate'>"
      ]
     },
     "execution_count": 64,
     "metadata": {},
     "output_type": "execute_result"
    }
   ],
   "source": [
    "from yellowbrick.classifier import ClassificationReport, ROCAUC\n",
    "# Visualize model performance with yellowbrick library\n",
    "viz = ClassificationReport(RandomForestClassifier(n_estimators=15, max_samples= None, bootstrap=True, oob_score=True, random_state=None))\n",
    "viz.fit(X_train, y_train)\n",
    "viz.score(X_test, y_test)\n",
    "viz.show()\n",
    "\n",
    "roc = ROCAUC(RandomForestClassifier(n_estimators=10, max_samples= None, bootstrap=True, oob_score=True, random_state=None))\n",
    "roc.fit(X_train, y_train)\n",
    "roc.score(X_test, y_test)\n",
    "roc.show()"
   ]
  },
  {
   "cell_type": "markdown",
   "metadata": {},
   "source": [
    "####  Summary of  my understanding of the application of Various Pre-processing and Vectorization and performance of your model on this dataset"
   ]
  },
  {
   "cell_type": "markdown",
   "metadata": {},
   "source": [
    "Summary:\n",
    "\n",
    "- In this project we developed a sentiment analysis model about the problems of each major U.S. airline.\n",
    "- The dataset used was Twitter data that was scraped from February of 2015 in which contributors to the data gathered were asked to first classify positive, negative, and neutral tweets, followed by categorizing negative reasons (such as \"late flight\" or \"rude service\").\n",
    "- In this work we considered only he 2 columns “text” and “airline_sentiment”\n",
    "- We Pre-processed the data using various techniques and libraries.\n",
    "- The preprocessing included: the data by stripping unwanted characters, removing stopwords and performing other basic preprocessing steps as given in the introduction.\n",
    "- Next we extracted the features by converting the text to numeric vector representations for use in training our machine learning model. In this work we made use of two vectorizers namely: CountVectorizer and the Term Frequency Inverse Document (TFIDF) Vectorizer. \n",
    "- We used the vectorizer to convert each tweet into a vector. The vector captured the relationship between the words in a review text and their presence in the entire dataset\n",
    "- We split our data into two namely: training data set and test data. The split was 70%:30% with 70% used for training data and the remaining 30% used for test data.\n",
    "- We then  trained the model and evaluated the performance by prediction using the test dataset.\n",
    "- We then used RandomForestClassifier(RFC) to build our model. The RFC is a supervised machine-learning algorithm that was used to train sentiment classification models.\n",
    "- In order to check our model’s accuracy we made use of the accuracy_score() method.\n",
    "- We achieved an accuracy of 74.6% with the Countvector-based model   and 75.3% with the tfidf vectorizer-based model\n",
    "- The accuracy achieved by our models were reasonable. However performance could be improved by consideration of hyperparameter optimization and use of other more powerful machine learning models. We could also have investigated various variations of the preprocessing steps and algorithms\n",
    "- However, we can still increase the accuracy of our model by increasing the dataset we took into account for the model building "
   ]
  }
 ],
 "metadata": {
  "kernelspec": {
   "display_name": "Python 3",
   "language": "python",
   "name": "python3"
  },
  "language_info": {
   "codemirror_mode": {
    "name": "ipython",
    "version": 3
   },
   "file_extension": ".py",
   "mimetype": "text/x-python",
   "name": "python",
   "nbconvert_exporter": "python",
   "pygments_lexer": "ipython3",
   "version": "3.7.6"
  }
 },
 "nbformat": 4,
 "nbformat_minor": 1
}
